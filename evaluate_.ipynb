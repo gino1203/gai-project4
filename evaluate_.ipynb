{
  "nbformat": 4,
  "nbformat_minor": 0,
  "metadata": {
    "colab": {
      "provenance": [],
      "gpuType": "T4"
    },
    "kernelspec": {
      "name": "python3",
      "display_name": "Python 3"
    },
    "language_info": {
      "name": "python"
    },
    "accelerator": "GPU"
  },
  "cells": [
    {
      "cell_type": "code",
      "execution_count": 1,
      "metadata": {
        "id": "9GtMYoPKTiEh"
      },
      "outputs": [],
      "source": [
        "from PIL import Image\n",
        "import torchvision.transforms as transforms\n",
        "import torch\n",
        "import torch.nn.functional as F\n",
        "from skimage.metrics import structural_similarity as ssim\n",
        "import numpy as np\n",
        "from scipy.linalg import sqrtm\n",
        "import torch.nn as nn\n",
        "\n",
        "\n"
      ]
    },
    {
      "cell_type": "markdown",
      "source": [
        "圖片處理"
      ],
      "metadata": {
        "id": "pV_YnRG8Vvwq"
      }
    },
    {
      "cell_type": "code",
      "source": [
        "def load_image(image_path, image_size=(28, 28)):\n",
        "    transform = transforms.Compose([\n",
        "        transforms.Resize(image_size),\n",
        "        transforms.ToTensor()\n",
        "    ])\n",
        "    image = Image.open(image_path).convert('L')\n",
        "    image = transform(image)\n",
        "    image = image.unsqueeze(0)\n",
        "    return image"
      ],
      "metadata": {
        "id": "wy502RzwVxQJ"
      },
      "execution_count": 2,
      "outputs": []
    },
    {
      "cell_type": "markdown",
      "source": [
        "計算各項指標"
      ],
      "metadata": {
        "id": "2MfKAY8QV8RU"
      }
    },
    {
      "cell_type": "code",
      "source": [
        "def calculate_psnr(img1, img2):\n",
        "    mse = F.mse_loss(img1, img2, reduction='mean')\n",
        "    if mse == 0:\n",
        "        return float('inf')  # 當 MSE 為 0 時，PSNR 無限大\n",
        "    psnr = 20 * torch.log10(1.0 / torch.sqrt(mse))\n",
        "    return psnr.item()\n",
        "\n",
        "def calculate_ssim(img1, img2):\n",
        "    img1 = img1.squeeze().cpu().numpy()\n",
        "    img2 = img2.squeeze().cpu().numpy()\n",
        "    ssim_value = ssim(img1, img2, multichannel=True)\n",
        "    return ssim_value\n"
      ],
      "metadata": {
        "id": "iiG9iz2DV7UD"
      },
      "execution_count": 3,
      "outputs": []
    },
    {
      "cell_type": "markdown",
      "source": [
        "正式處理"
      ],
      "metadata": {
        "id": "MA9nb0fyWBor"
      }
    },
    {
      "cell_type": "code",
      "source": [
        "# 讀取圖像\n",
        "image1 = load_image('/content/ddpm_org.png')\n",
        "image2 = load_image('/content/ddpm_product.png')\n",
        "\n",
        "# 計算 PSNR 和 SSIM\n",
        "psnr_value = calculate_psnr(image1, image2)\n",
        "ssim_value = calculate_ssim(image1, image2)\n",
        "\n",
        "print(f\"PSNR: {psnr_value} dB\")\n",
        "print(f\"SSIM: {ssim_value}\")\n"
      ],
      "metadata": {
        "id": "rvw2gxKiWEzi",
        "colab": {
          "base_uri": "https://localhost:8080/"
        },
        "outputId": "4a0da48f-a937-4594-bf9d-ea1016290668"
      },
      "execution_count": 11,
      "outputs": [
        {
          "output_type": "stream",
          "name": "stdout",
          "text": [
            "PSNR: 14.823285102844238 dB\n",
            "SSIM: 0.35987159609794617\n"
          ]
        },
        {
          "output_type": "stream",
          "name": "stderr",
          "text": [
            "<ipython-input-3-24d1bf879fdc>:11: FutureWarning: `multichannel` is a deprecated argument name for `structural_similarity`. It will be removed in version 1.0. Please use `channel_axis` instead.\n",
            "  ssim_value = ssim(img1, img2, multichannel=True)\n"
          ]
        }
      ]
    }
  ]
}