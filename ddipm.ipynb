{
  "nbformat": 4,
  "nbformat_minor": 0,
  "metadata": {
    "colab": {
      "provenance": [],
      "gpuType": "T4"
    },
    "kernelspec": {
      "name": "python3",
      "display_name": "Python 3"
    },
    "language_info": {
      "name": "python"
    },
    "accelerator": "GPU"
  },
  "cells": [
    {
      "cell_type": "markdown",
      "source": [
        "import\n"
      ],
      "metadata": {
        "id": "O0QEYWBK9lRa"
      }
    },
    {
      "cell_type": "code",
      "source": [
        "import torch\n",
        "import torch.nn as nn\n",
        "import torch.optim as optim\n",
        "from torchvision import datasets, transforms\n",
        "from torch.utils.data import DataLoader, Subset\n",
        "import matplotlib.pyplot as plt\n",
        "import numpy as np\n",
        "from torchvision.utils import save_image\n",
        "from PIL import Image"
      ],
      "metadata": {
        "id": "N2zEMX8i9KuZ"
      },
      "execution_count": 1,
      "outputs": []
    },
    {
      "cell_type": "markdown",
      "source": [
        "載入mnist"
      ],
      "metadata": {
        "id": "3TFk3ZX_Bc9H"
      }
    },
    {
      "cell_type": "code",
      "source": [
        "transform = transforms.Compose([\n",
        "    transforms.ToTensor(),\n",
        "    transforms.Normalize((0.5,), (0.5,))\n",
        "])\n",
        "train_dataset = datasets.MNIST(root='./data', train=True, transform=transform, download=True)\n",
        "\n",
        "\n",
        "\n",
        "train_loader = DataLoader(train_dataset, batch_size=128, shuffle=True)\n"
      ],
      "metadata": {
        "id": "qIenPKBtBegc",
        "colab": {
          "base_uri": "https://localhost:8080/"
        },
        "outputId": "4f651884-9bc0-4cfe-dbb5-905285f435ed"
      },
      "execution_count": 2,
      "outputs": [
        {
          "output_type": "stream",
          "name": "stdout",
          "text": [
            "Downloading http://yann.lecun.com/exdb/mnist/train-images-idx3-ubyte.gz\n",
            "Failed to download (trying next):\n",
            "HTTP Error 403: Forbidden\n",
            "\n",
            "Downloading https://ossci-datasets.s3.amazonaws.com/mnist/train-images-idx3-ubyte.gz\n",
            "Downloading https://ossci-datasets.s3.amazonaws.com/mnist/train-images-idx3-ubyte.gz to ./data/MNIST/raw/train-images-idx3-ubyte.gz\n"
          ]
        },
        {
          "output_type": "stream",
          "name": "stderr",
          "text": [
            "100%|██████████| 9912422/9912422 [00:00<00:00, 38587388.14it/s]\n"
          ]
        },
        {
          "output_type": "stream",
          "name": "stdout",
          "text": [
            "Extracting ./data/MNIST/raw/train-images-idx3-ubyte.gz to ./data/MNIST/raw\n",
            "\n",
            "Downloading http://yann.lecun.com/exdb/mnist/train-labels-idx1-ubyte.gz\n",
            "Failed to download (trying next):\n",
            "HTTP Error 403: Forbidden\n",
            "\n",
            "Downloading https://ossci-datasets.s3.amazonaws.com/mnist/train-labels-idx1-ubyte.gz\n",
            "Downloading https://ossci-datasets.s3.amazonaws.com/mnist/train-labels-idx1-ubyte.gz to ./data/MNIST/raw/train-labels-idx1-ubyte.gz\n"
          ]
        },
        {
          "output_type": "stream",
          "name": "stderr",
          "text": [
            "100%|██████████| 28881/28881 [00:00<00:00, 1114629.40it/s]\n"
          ]
        },
        {
          "output_type": "stream",
          "name": "stdout",
          "text": [
            "Extracting ./data/MNIST/raw/train-labels-idx1-ubyte.gz to ./data/MNIST/raw\n",
            "\n",
            "Downloading http://yann.lecun.com/exdb/mnist/t10k-images-idx3-ubyte.gz\n",
            "Failed to download (trying next):\n",
            "HTTP Error 403: Forbidden\n",
            "\n",
            "Downloading https://ossci-datasets.s3.amazonaws.com/mnist/t10k-images-idx3-ubyte.gz\n",
            "Downloading https://ossci-datasets.s3.amazonaws.com/mnist/t10k-images-idx3-ubyte.gz to ./data/MNIST/raw/t10k-images-idx3-ubyte.gz\n"
          ]
        },
        {
          "output_type": "stream",
          "name": "stderr",
          "text": [
            "100%|██████████| 1648877/1648877 [00:00<00:00, 9511178.01it/s]\n"
          ]
        },
        {
          "output_type": "stream",
          "name": "stdout",
          "text": [
            "Extracting ./data/MNIST/raw/t10k-images-idx3-ubyte.gz to ./data/MNIST/raw\n",
            "\n",
            "Downloading http://yann.lecun.com/exdb/mnist/t10k-labels-idx1-ubyte.gz\n",
            "Failed to download (trying next):\n",
            "HTTP Error 403: Forbidden\n",
            "\n",
            "Downloading https://ossci-datasets.s3.amazonaws.com/mnist/t10k-labels-idx1-ubyte.gz\n",
            "Downloading https://ossci-datasets.s3.amazonaws.com/mnist/t10k-labels-idx1-ubyte.gz to ./data/MNIST/raw/t10k-labels-idx1-ubyte.gz\n"
          ]
        },
        {
          "output_type": "stream",
          "name": "stderr",
          "text": [
            "100%|██████████| 4542/4542 [00:00<00:00, 3189440.61it/s]"
          ]
        },
        {
          "output_type": "stream",
          "name": "stdout",
          "text": [
            "Extracting ./data/MNIST/raw/t10k-labels-idx1-ubyte.gz to ./data/MNIST/raw\n",
            "\n"
          ]
        },
        {
          "output_type": "stream",
          "name": "stderr",
          "text": [
            "\n"
          ]
        }
      ]
    },
    {
      "cell_type": "markdown",
      "source": [
        "設定dip model"
      ],
      "metadata": {
        "id": "VaP3VRr99oNj"
      }
    },
    {
      "cell_type": "code",
      "source": [
        "class DIP(nn.Module):\n",
        "    def __init__(self):\n",
        "        super(DIP, self).__init__()\n",
        "        self.encoder = nn.Sequential(\n",
        "            nn.Conv2d(1, 64, kernel_size=3, padding=1),\n",
        "            nn.ReLU(),\n",
        "            nn.Conv2d(64, 64, kernel_size=3, padding=1),\n",
        "            nn.ReLU()\n",
        "        )\n",
        "        self.decoder = nn.Sequential(\n",
        "            nn.Conv2d(64, 64, kernel_size=3, padding=1),\n",
        "            nn.ReLU(),\n",
        "            nn.Conv2d(64, 1, kernel_size=3, padding=1),\n",
        "            nn.Tanh()\n",
        "        )\n",
        "\n",
        "    def forward(self, x):\n",
        "        x = self.encoder(x)\n",
        "        x = self.decoder(x)\n",
        "        return x\n",
        "\n"
      ],
      "metadata": {
        "id": "8Isn2hu19qr9"
      },
      "execution_count": 3,
      "outputs": []
    },
    {
      "cell_type": "markdown",
      "source": [
        "dip訓練圖片處理"
      ],
      "metadata": {
        "id": "WELUSInN92Oo"
      }
    },
    {
      "cell_type": "markdown",
      "source": [
        "dip訓練設定"
      ],
      "metadata": {
        "id": "8-VY4Ayd-WY0"
      }
    },
    {
      "cell_type": "code",
      "source": [
        "\n",
        "dip_epoch = 10\n",
        "dip_learning_rate = 0.0001\n",
        "device = torch.device(\"cuda\" if torch.cuda.is_available() else \"cpu\")\n",
        "# 准备输入图像并创建 Deep Image Prior 模型\n",
        "\n",
        "dip_model = DIP().to(device)\n",
        "\n",
        "    # 将模型设置为训练模式并进行训练\n",
        "dip_model.train()\n",
        "\n",
        "optimizer = optim.Adam(dip_model.parameters(), lr=dip_learning_rate)\n",
        "loss_fn = nn.MSELoss()\n",
        "for i in range(dip_epoch):\n",
        "      for batch_data, _ in train_loader:\n",
        "        batch_data = batch_data.to(device)\n",
        "        optimizer.zero_grad()\n",
        "        output = dip_model(batch_data)\n",
        "        loss = loss_fn(output, batch_data)\n",
        "        loss.backward()\n",
        "        optimizer.step()\n",
        "\n",
        "      print(f\"Epoch {i+1}/{dip_epoch}, Loss: {loss.item()}\")\n",
        "initial_prior = output.detach()\n",
        "\n",
        "torch.save(initial_prior, \"initial_prior.pt\")\n"
      ],
      "metadata": {
        "id": "J2xkxpJ0-hPn",
        "colab": {
          "base_uri": "https://localhost:8080/"
        },
        "outputId": "20d339d9-d45a-4ab1-ba10-c5896c1d6dc3"
      },
      "execution_count": 5,
      "outputs": [
        {
          "output_type": "stream",
          "name": "stdout",
          "text": [
            "Epoch 1/10, Loss: 0.0024332585744559765\n",
            "Epoch 2/10, Loss: 0.0011215059785172343\n",
            "Epoch 3/10, Loss: 0.0007165726274251938\n",
            "Epoch 4/10, Loss: 0.00046822417061775923\n",
            "Epoch 5/10, Loss: 0.0004202036652714014\n",
            "Epoch 6/10, Loss: 0.00031605179538019\n",
            "Epoch 7/10, Loss: 0.00025192921748384833\n",
            "Epoch 8/10, Loss: 0.00020884517289232463\n",
            "Epoch 9/10, Loss: 0.00017707877850625664\n",
            "Epoch 10/10, Loss: 0.0001340661256108433\n"
          ]
        }
      ]
    },
    {
      "cell_type": "markdown",
      "source": [
        "設定ddpm參數"
      ],
      "metadata": {
        "id": "zD1_ChMRBX8w"
      }
    },
    {
      "cell_type": "code",
      "source": [
        "batch_size = 128\n",
        "learning_rate = 0.0001\n",
        "num_epochs = 50\n",
        "img_size = 28\n",
        "timesteps = 1000\n",
        "device = 'cuda' if torch.cuda.is_available() else 'cpu'\n",
        "beta_start = 1e-4\n",
        "beta_end = 0.02\n",
        "betas = torch.linspace(beta_start, beta_end, timesteps)\n",
        "alphas = 1 - betas\n",
        "alphas_cumprod = torch.cumprod(alphas, axis=0)"
      ],
      "metadata": {
        "id": "cq7WA8xKBXT9"
      },
      "execution_count": 6,
      "outputs": []
    },
    {
      "cell_type": "markdown",
      "source": [
        "設定U-Net"
      ],
      "metadata": {
        "id": "xgvByGBoBil3"
      }
    },
    {
      "cell_type": "code",
      "source": [
        "class UNet(nn.Module):\n",
        "     def __init__(self):\n",
        "        super(UNet, self).__init__()\n",
        "        self.net = nn.Sequential(\n",
        "            nn.Conv2d(1, 64, 3, padding=1),\n",
        "            nn.ReLU(),\n",
        "            nn.Conv2d(64, 128, 3, padding=1),\n",
        "            nn.ReLU(),\n",
        "            nn.Conv2d(128, 64, 3, padding=1),\n",
        "            nn.ReLU(),\n",
        "            nn.Conv2d(64, 1, 3, padding=1)\n",
        "        )\n",
        "\n",
        "     def forward(self, x, t):\n",
        "        return self.net(x)\n",
        "\n",
        "model = UNet().to(device)\n",
        "optimizer = optim.Adam(model.parameters(), lr=learning_rate)\n",
        "criterion = nn.MSELoss()"
      ],
      "metadata": {
        "id": "SNhutWAtBlSL"
      },
      "execution_count": 7,
      "outputs": []
    },
    {
      "cell_type": "code",
      "source": [
        "def extract(a, t, x_shape):\n",
        "    batch_size = t.shape[0]\n",
        "    out = a.gather(-1, t.cpu())\n",
        "    return out.view(batch_size, *((1,) * (len(x_shape) - 1))).to(t.device)\n",
        "\n",
        "def q_sample(x_0, t, noise=None):\n",
        "    if noise is None:\n",
        "        noise = torch.randn_like(x_0)\n",
        "    sqrt_alphas_cumprod_t = extract(alphas_cumprod.sqrt(), t, x_0.shape)\n",
        "    sqrt_one_minus_alphas_cumprod_t = extract((1 - alphas_cumprod).sqrt(), t, x_0.shape)\n",
        "    return sqrt_alphas_cumprod_t * x_0 + sqrt_one_minus_alphas_cumprod_t * noise\n",
        "\n",
        "def p_losses(denoise_model, x_0, t):\n",
        "    noise = torch.randn_like(x_0)\n",
        "    x_noisy = q_sample(x_0, t, noise)\n",
        "    predicted_noise = denoise_model(x_noisy, t)\n",
        "    return criterion(predicted_noise, noise)\n"
      ],
      "metadata": {
        "id": "PPOYwYBbBrfJ"
      },
      "execution_count": 8,
      "outputs": []
    },
    {
      "cell_type": "markdown",
      "source": [
        "訓練ddpm"
      ],
      "metadata": {
        "id": "nB-dMxQijJMa"
      }
    },
    {
      "cell_type": "code",
      "source": [
        "def ddpm_training_step(denoise_model, data, initial_prior, optimizer, criterion, num_steps):\n",
        "    optimizer.zero_grad()\n",
        "    t = torch.randint(0, num_steps, (data.size(0),), device=device).long()\n",
        "    batch_size = data.size(0)\n",
        "\n",
        "    # 使用批次大小重複 initial_prior\n",
        "    repeated_prior = initial_prior.repeat(batch_size, 1, 1, 1)[:batch_size]\n",
        "\n",
        "    x_t = q_sample(repeated_prior, t)\n",
        "\n",
        "    loss = p_losses(denoise_model, data, t)\n",
        "    loss.backward()\n",
        "    optimizer.step()\n",
        "\n",
        "    return loss.item()\n",
        "\n"
      ],
      "metadata": {
        "id": "0aeU603xjLiB"
      },
      "execution_count": 9,
      "outputs": []
    },
    {
      "cell_type": "code",
      "source": [
        "initial_prior = torch.load(\"initial_prior.pt\").to(device)\n",
        "losses = []\n",
        "\n",
        "for epoch in range(num_epochs):\n",
        "    for batch_data, _ in train_loader:\n",
        "        batch_data = batch_data.to(device)\n",
        "        loss = ddpm_training_step(model, batch_data, initial_prior, optimizer, criterion, timesteps)\n",
        "    print(f\"Epoch {epoch + 1}/{num_epochs}, Loss: {loss}\")\n",
        "    losses.append(loss)\n",
        "plt.figure(figsize=(10, 5))\n",
        "plt.plot(losses, label='Training Loss')\n",
        "plt.xlabel('epoch')\n",
        "plt.ylabel('Loss')\n",
        "plt.ylim(0.04, 0.35)\n",
        "plt.title('Training Loss Over Time')\n",
        "plt.legend()\n",
        "plt.show()\n"
      ],
      "metadata": {
        "colab": {
          "base_uri": "https://localhost:8080/",
          "height": 1000
        },
        "id": "hUip6hH8jYpe",
        "outputId": "08e21294-34cb-403e-ca7e-b9dcb36fd2bb"
      },
      "execution_count": 10,
      "outputs": [
        {
          "output_type": "stream",
          "name": "stdout",
          "text": [
            "Epoch 1/50, Loss: 0.1207103580236435\n",
            "Epoch 2/50, Loss: 0.09429830312728882\n",
            "Epoch 3/50, Loss: 0.08081042766571045\n",
            "Epoch 4/50, Loss: 0.05756274238228798\n",
            "Epoch 5/50, Loss: 0.0784127488732338\n",
            "Epoch 6/50, Loss: 0.04970215633511543\n",
            "Epoch 7/50, Loss: 0.05392620712518692\n",
            "Epoch 8/50, Loss: 0.054742567241191864\n",
            "Epoch 9/50, Loss: 0.06018293276429176\n",
            "Epoch 10/50, Loss: 0.05620163679122925\n",
            "Epoch 11/50, Loss: 0.04899394512176514\n",
            "Epoch 12/50, Loss: 0.05148592218756676\n",
            "Epoch 13/50, Loss: 0.05193500593304634\n",
            "Epoch 14/50, Loss: 0.052543818950653076\n",
            "Epoch 15/50, Loss: 0.051973287016153336\n",
            "Epoch 16/50, Loss: 0.044115591794252396\n",
            "Epoch 17/50, Loss: 0.04813205450773239\n",
            "Epoch 18/50, Loss: 0.04727829247713089\n",
            "Epoch 19/50, Loss: 0.047740641981363297\n",
            "Epoch 20/50, Loss: 0.05658808723092079\n",
            "Epoch 21/50, Loss: 0.047471266239881516\n",
            "Epoch 22/50, Loss: 0.054366499185562134\n",
            "Epoch 23/50, Loss: 0.04899170994758606\n",
            "Epoch 24/50, Loss: 0.045528095215559006\n",
            "Epoch 25/50, Loss: 0.04640132933855057\n",
            "Epoch 26/50, Loss: 0.04599187150597572\n",
            "Epoch 27/50, Loss: 0.04707837849855423\n",
            "Epoch 28/50, Loss: 0.037699293345212936\n",
            "Epoch 29/50, Loss: 0.04998758062720299\n",
            "Epoch 30/50, Loss: 0.03521900624036789\n",
            "Epoch 31/50, Loss: 0.03832288086414337\n",
            "Epoch 32/50, Loss: 0.043508559465408325\n",
            "Epoch 33/50, Loss: 0.05043726786971092\n",
            "Epoch 34/50, Loss: 0.047530509531497955\n",
            "Epoch 35/50, Loss: 0.049748487770557404\n",
            "Epoch 36/50, Loss: 0.04293285310268402\n",
            "Epoch 37/50, Loss: 0.04637658968567848\n",
            "Epoch 38/50, Loss: 0.051898617297410965\n",
            "Epoch 39/50, Loss: 0.041287146508693695\n",
            "Epoch 40/50, Loss: 0.04869905114173889\n",
            "Epoch 41/50, Loss: 0.03695182874798775\n",
            "Epoch 42/50, Loss: 0.03728603571653366\n",
            "Epoch 43/50, Loss: 0.036634981632232666\n",
            "Epoch 44/50, Loss: 0.042258281260728836\n",
            "Epoch 45/50, Loss: 0.03637397289276123\n",
            "Epoch 46/50, Loss: 0.03897674009203911\n",
            "Epoch 47/50, Loss: 0.04290831461548805\n",
            "Epoch 48/50, Loss: 0.041051916778087616\n",
            "Epoch 49/50, Loss: 0.04345156252384186\n",
            "Epoch 50/50, Loss: 0.0429765023291111\n"
          ]
        },
        {
          "output_type": "display_data",
          "data": {
            "text/plain": [
              "<Figure size 1000x500 with 1 Axes>"
            ],
            "image/png": "[encoded data removed]"
          },
          "metadata": {}
        }
      ]
    },
    {
      "cell_type": "markdown",
      "source": [
        "生成圖片"
      ],
      "metadata": {
        "id": "f8_0mKTFCgni"
      }
    },
    {
      "cell_type": "code",
      "source": [
        "from torchvision.utils import save_image\n",
        "from google.colab import files\n",
        "def add_gaussian_noise(image, std_dev):\n",
        "    noise = np.random.normal(loc=0, scale=std_dev, size=image.shape)\n",
        "    noisy_image = image + noise\n",
        "    noisy_image = np.clip(noisy_image, 0, 255).astype(np.uint8)\n",
        "    return noisy_image\n",
        "\n",
        "# 添加加性高斯雜訊\n",
        "\n",
        "def save_original_images(images):\n",
        "    save_image(images, 'original_images.png', nrow=8)\n",
        "    files.download('original_images.png')\n",
        "\n",
        "# 儲存生成的圖像函數\n",
        "def save_generated_images(images):\n",
        "    save_image(images, 'generated_images.png', nrow=8)\n",
        "    files.download('generated_images.png')\n",
        "model.eval()\n",
        "original_images = next(iter(train_loader))[0][:32].to(device)  # 取出第一個 batch 的原始圖像\n",
        "noiseimage=add_gaussian_noise(original_images.cpu().numpy() ,3)\n",
        "\n",
        "noiseimage=torch.from_numpy(noiseimage).to(device).float()\n",
        "# 生成圖像\n",
        "with torch.no_grad():\n",
        "    generated_images = model(noiseimage, torch.full((32,), timesteps-1, dtype=torch.long))\n",
        "save_original_images(original_images)\n",
        "save_generated_images(generated_images)\n"
      ],
      "metadata": {
        "id": "lTYCGPyyCz8i",
        "colab": {
          "base_uri": "https://localhost:8080/",
          "height": 17
        },
        "outputId": "e52dc361-4667-4f89-9c75-993ed99853cb"
      },
      "execution_count": 40,
      "outputs": [
        {
          "output_type": "display_data",
          "data": {
            "text/plain": [
              "<IPython.core.display.Javascript object>"
            ],
            "application/javascript": [
              "\n",
              "    async function download(id, filename, size) {\n",
              "      if (!google.colab.kernel.accessAllowed) {\n",
              "        return;\n",
              "      }\n",
              "      const div = document.createElement('div');\n",
              "      const label = document.createElement('label');\n",
              "      label.textContent = `Downloading \"${filename}\": `;\n",
              "      div.appendChild(label);\n",
              "      const progress = document.createElement('progress');\n",
              "      progress.max = size;\n",
              "      div.appendChild(progress);\n",
              "      document.body.appendChild(div);\n",
              "\n",
              "      const buffers = [];\n",
              "      let downloaded = 0;\n",
              "\n",
              "      const channel = await google.colab.kernel.comms.open(id);\n",
              "      // Send a message to notify the kernel that we're ready.\n",
              "      channel.send({})\n",
              "\n",
              "      for await (const message of channel.messages) {\n",
              "        // Send a message to notify the kernel that we're ready.\n",
              "        channel.send({})\n",
              "        if (message.buffers) {\n",
              "          for (const buffer of message.buffers) {\n",
              "            buffers.push(buffer);\n",
              "            downloaded += buffer.byteLength;\n",
              "            progress.value = downloaded;\n",
              "          }\n",
              "        }\n",
              "      }\n",
              "      const blob = new Blob(buffers, {type: 'application/binary'});\n",
              "      const a = document.createElement('a');\n",
              "      a.href = window.URL.createObjectURL(blob);\n",
              "      a.download = filename;\n",
              "      div.appendChild(a);\n",
              "      a.click();\n",
              "      div.remove();\n",
              "    }\n",
              "  "
            ]
          },
          "metadata": {}
        },
        {
          "output_type": "display_data",
          "data": {
            "text/plain": [
              "<IPython.core.display.Javascript object>"
            ],
            "application/javascript": [
              "download(\"download_c4460716-ed6d-493c-aab4-db740f3cb02b\", \"original_images.png\", 6817)"
            ]
          },
          "metadata": {}
        },
        {
          "output_type": "display_data",
          "data": {
            "text/plain": [
              "<IPython.core.display.Javascript object>"
            ],
            "application/javascript": [
              "\n",
              "    async function download(id, filename, size) {\n",
              "      if (!google.colab.kernel.accessAllowed) {\n",
              "        return;\n",
              "      }\n",
              "      const div = document.createElement('div');\n",
              "      const label = document.createElement('label');\n",
              "      label.textContent = `Downloading \"${filename}\": `;\n",
              "      div.appendChild(label);\n",
              "      const progress = document.createElement('progress');\n",
              "      progress.max = size;\n",
              "      div.appendChild(progress);\n",
              "      document.body.appendChild(div);\n",
              "\n",
              "      const buffers = [];\n",
              "      let downloaded = 0;\n",
              "\n",
              "      const channel = await google.colab.kernel.comms.open(id);\n",
              "      // Send a message to notify the kernel that we're ready.\n",
              "      channel.send({})\n",
              "\n",
              "      for await (const message of channel.messages) {\n",
              "        // Send a message to notify the kernel that we're ready.\n",
              "        channel.send({})\n",
              "        if (message.buffers) {\n",
              "          for (const buffer of message.buffers) {\n",
              "            buffers.push(buffer);\n",
              "            downloaded += buffer.byteLength;\n",
              "            progress.value = downloaded;\n",
              "          }\n",
              "        }\n",
              "      }\n",
              "      const blob = new Blob(buffers, {type: 'application/binary'});\n",
              "      const a = document.createElement('a');\n",
              "      a.href = window.URL.createObjectURL(blob);\n",
              "      a.download = filename;\n",
              "      div.appendChild(a);\n",
              "      a.click();\n",
              "      div.remove();\n",
              "    }\n",
              "  "
            ]
          },
          "metadata": {}
        },
        {
          "output_type": "display_data",
          "data": {
            "text/plain": [
              "<IPython.core.display.Javascript object>"
            ],
            "application/javascript": [
              "download(\"download_8551363c-9d15-4446-b1fb-4e2798328777\", \"generated_images.png\", 17253)"
            ]
          },
          "metadata": {}
        }
      ]
    }
  ]
}