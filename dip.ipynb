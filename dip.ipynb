{
  "nbformat": 4,
  "nbformat_minor": 0,
  "metadata": {
    "colab": {
      "provenance": [],
      "gpuType": "T4"
    },
    "kernelspec": {
      "name": "python3",
      "display_name": "Python 3"
    },
    "language_info": {
      "name": "python"
    },
    "accelerator": "GPU"
  },
  "cells": [
    {
      "cell_type": "code",
      "execution_count": null,
      "metadata": {
        "id": "_fU7OCUoWVaf",
        "colab": {
          "base_uri": "https://localhost:8080/"
        },
        "outputId": "2ac55bd2-0283-4df5-b90f-5384996da015"
      },
      "outputs": [
        {
          "output_type": "stream",
          "name": "stdout",
          "text": [
            "Iteration [100/1500], Loss: 0.05998532846570015\n",
            "Iteration [200/1500], Loss: 0.05605505779385567\n",
            "Iteration [300/1500], Loss: 0.052975788712501526\n",
            "Iteration [400/1500], Loss: 0.051300108432769775\n",
            "Iteration [500/1500], Loss: 0.04986215755343437\n",
            "Iteration [600/1500], Loss: 0.046889711171388626\n",
            "Iteration [700/1500], Loss: 0.04663081839680672\n",
            "Iteration [800/1500], Loss: 0.04395879805088043\n",
            "Iteration [900/1500], Loss: 0.04267175495624542\n",
            "Iteration [1000/1500], Loss: 0.04089343175292015\n",
            "Iteration [1100/1500], Loss: 0.03972650691866875\n",
            "Iteration [1200/1500], Loss: 0.039254818111658096\n",
            "Iteration [1300/1500], Loss: 0.04018382355570793\n",
            "Iteration [1400/1500], Loss: 0.037669043987989426\n",
            "Iteration [1500/1500], Loss: 0.035966139286756516\n",
            "Denoising complete! Output image saved as output_image_denoised.jpg\n"
          ]
        }
      ],
      "source": [
        "import torch\n",
        "import torch.nn as nn\n",
        "import torch.optim as optim\n",
        "import torchvision.transforms as transforms\n",
        "from torchvision.utils import save_image\n",
        "from PIL import Image\n",
        "\n",
        "# 定义一个简单的深度网络作为 Deep Image Prior\n",
        "class DIP(nn.Module):\n",
        "    def __init__(self):\n",
        "        super(DIP, self).__init__()\n",
        "        self.encoder = nn.Sequential(\n",
        "            nn.Conv2d(3, 64, kernel_size=3, padding=1),\n",
        "            nn.ReLU(),\n",
        "            nn.Conv2d(64, 64, kernel_size=3, padding=1),\n",
        "            nn.ReLU()\n",
        "        )\n",
        "        self.decoder = nn.Sequential(\n",
        "            nn.Conv2d(64, 64, kernel_size=3, padding=1),\n",
        "            nn.ReLU(),\n",
        "            nn.Conv2d(64, 3, kernel_size=3, padding=1),\n",
        "            nn.Tanh()\n",
        "        )\n",
        "\n",
        "    def forward(self, x):\n",
        "        x = self.encoder(x)\n",
        "        x = self.decoder(x)\n",
        "        return x\n",
        "\n",
        "# 读取输入图像并进行预处理\n",
        "def preprocess_image(image_path):\n",
        "    image = Image.open(image_path)\n",
        "    transform = transforms.Compose([\n",
        "        transforms.Resize((256, 256)),\n",
        "        transforms.ToTensor()\n",
        "    ])\n",
        "    image = transform(image).unsqueeze(0)\n",
        "    return image\n",
        "\n",
        "# 定义训练函数\n",
        "def train_dip(model, input_image, num_iterations=1000, lr=0.1):\n",
        "    optimizer = optim.Adam(model.parameters(), lr=lr)\n",
        "    criterion = nn.MSELoss()\n",
        "\n",
        "    for i in range(num_iterations):\n",
        "        output_image = model(input_image)\n",
        "        loss = criterion(output_image, answer_image)\n",
        "\n",
        "        optimizer.zero_grad()\n",
        "        loss.backward()\n",
        "        optimizer.step()\n",
        "\n",
        "        if (i+1) % 100 == 0:\n",
        "            print(f\"Iteration [{i+1}/{num_iterations}], Loss: {loss.item()}\")\n",
        "            save_image(output_image, f\"output_image_denoised{(int)((i+1)/100)}.jpg\")\n",
        "\n",
        "    return output_image\n",
        "\n",
        "if __name__ == \"__main__\":\n",
        "    # 定义超参数\n",
        "    answer_path = \"/content/answer.jpg\"\n",
        "    image_path = \"/content/input.jpg\"\n",
        "    output_path = \"output_image_denoised.jpg\"\n",
        "    num_iterations = 1500\n",
        "    learning_rate = 0.0001\n",
        "\n",
        "    # 准备输入图像并创建 Deep Image Prior 模型\n",
        "    input_image = preprocess_image(image_path)\n",
        "    answer_image = preprocess_image(answer_path)\n",
        "    model = DIP()\n",
        "\n",
        "    # 将模型设置为训练模式并进行训练\n",
        "    model.train()\n",
        "    output_image = train_dip(model, input_image, num_iterations, learning_rate)\n",
        "\n",
        "    # 保存输出图像\n",
        "    save_image(output_image, output_path)\n",
        "\n",
        "    print(\"Denoising complete! Output image saved as\", output_path)"
      ]
    },
    {
      "cell_type": "code",
      "source": [],
      "metadata": {
        "id": "zGe1FF_O9A0W"
      },
      "execution_count": null,
      "outputs": []
    },
    {
      "cell_type": "code",
      "source": [
        "import numpy as np\n",
        "import matplotlib.pyplot as plt\n",
        "from torchvision import datasets, transforms\n",
        "from torchvision.utils import save_image\n",
        "\n",
        "# 载入 MNIST 数据集\n",
        "mnist_dataset = datasets.MNIST(root='./data', train=True, transform=transforms.ToTensor(), download=True)\n",
        "\n",
        "# 从数据集中随机选择一张图片\n",
        "index = np.random.randint(len(mnist_dataset))\n",
        "image, label = mnist_dataset[index]\n",
        "\n",
        "# 添加高斯噪声\n",
        "mean = 0\n",
        "stddev = 0.3\n",
        "noise = np.random.normal(mean, stddev, image.shape)\n",
        "noisy_image = image + torch.tensor(noise, dtype=torch.float)\n",
        "\n",
        "# 显示原始图像和带有噪声的图像\n",
        "plt.figure(figsize=(8, 4))\n",
        "\n",
        "plt.subplot(1, 2, 1)\n",
        "plt.title('Original Image')\n",
        "plt.imshow(image.squeeze(), cmap='gray')\n",
        "plt.axis('off')\n",
        "\n",
        "plt.subplot(1, 2, 2)\n",
        "plt.title('Noisy Image')\n",
        "plt.imshow(noisy_image.squeeze(), cmap='gray')\n",
        "plt.axis('off')\n",
        "\n",
        "plt.show()\n",
        "\n",
        "# 保存带有噪声的图像\n",
        "save_image(noisy_image, 'noisy_mnist_image.png')\n",
        "print(\"Noisy image saved successfully!\")\n"
      ],
      "metadata": {
        "colab": {
          "base_uri": "https://localhost:8080/",
          "height": 358
        },
        "id": "f76-4oblarfg",
        "outputId": "610ca014-ffb1-4593-e6c8-fba9125caf81"
      },
      "execution_count": null,
      "outputs": [
        {
          "output_type": "display_data",
          "data": {
            "text/plain": [
              "<Figure size 800x400 with 2 Axes>"
            ],
            "image/png": "[encoded data removed]"
          },
          "metadata": {}
        },
        {
          "output_type": "stream",
          "name": "stdout",
          "text": [
            "Noisy image saved successfully!\n"
          ]
        }
      ]
    }
  ]
}